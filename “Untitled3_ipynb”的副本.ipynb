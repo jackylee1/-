{
  "nbformat": 4,
  "nbformat_minor": 0,
  "metadata": {
    "colab": {
      "name": "“Untitled3.ipynb”的副本",
      "version": "0.3.2",
      "provenance": [],
      "collapsed_sections": [],
      "include_colab_link": true
    },
    "kernelspec": {
      "name": "python2",
      "display_name": "Python 2"
    },
    "accelerator": "GPU"
  },
  "cells": [
    {
      "cell_type": "markdown",
      "metadata": {
        "id": "view-in-github",
        "colab_type": "text"
      },
      "source": [
        "<a href=\"https://colab.research.google.com/github/jackylee1/-/blob/master/%E2%80%9CUntitled3_ipynb%E2%80%9D%E7%9A%84%E5%89%AF%E6%9C%AC.ipynb\" target=\"_parent\"><img src=\"https://colab.research.google.com/assets/colab-badge.svg\" alt=\"Open In Colab\"/></a>"
      ]
    },
    {
      "metadata": {
        "id": "NhGz2bNZ1wJ5",
        "colab_type": "code",
        "outputId": "d7827cd6-d739-4286-dbe6-54175c579260",
        "colab": {
          "base_uri": "https://localhost:8080/",
          "height": 1074
        }
      },
      "cell_type": "code",
      "source": [
        "!apt-get install -y -qq software-properties-common python-software-properties module-init-tools\n",
        "#!add-apt-repository -y ppa:alessandro-strada/ppa 2>&1 > /dev/null\n",
        "#!apt-get update -qq 2>&1 > /dev/null\n",
        "#!apt-get -y install -qq google-drive-ocamlfuse fuse\n",
        "!wget https://launchpad.net/~alessandro-strada/+archive/ubuntu/google-drive-ocamlfuse-beta/+build/15331130/+files/google-drive-ocamlfuse_0.7.0-0ubuntu1_amd64.deb\n",
        "!dpkg -i google-drive-ocamlfuse_0.7.0-0ubuntu1_amd64.deb\n",
        "!apt-get install -f\n",
        "!apt-get -y install -qq fuse\n",
        "from google.colab import auth\n",
        "auth.authenticate_user()\n",
        "from oauth2client.client import GoogleCredentials\n",
        "creds = GoogleCredentials.get_application_default()\n",
        "import getpass\n",
        "!google-drive-ocamlfuse -headless -id={creds.client_id} -secret={creds.client_secret} < /dev/null 2>&1 | grep URL\n",
        "vcode = getpass.getpass()\n",
        "!echo {vcode} | google-drive-ocamlfuse -headless -id={creds.client_id} -secret={creds.client_secret}"
      ],
      "execution_count": 0,
      "outputs": [
        {
          "output_type": "stream",
          "text": [
            "E: Package 'python-software-properties' has no installation candidate\n",
            "--2018-10-22 09:49:03--  https://launchpad.net/~alessandro-strada/+archive/ubuntu/google-drive-ocamlfuse-beta/+build/15331130/+files/google-drive-ocamlfuse_0.7.0-0ubuntu1_amd64.deb\n",
            "Resolving launchpad.net (launchpad.net)... 91.189.89.222, 91.189.89.223\n",
            "Connecting to launchpad.net (launchpad.net)|91.189.89.222|:443... connected.\n",
            "HTTP request sent, awaiting response... 303 See Other\n",
            "Location: https://launchpadlibrarian.net/386846978/google-drive-ocamlfuse_0.7.0-0ubuntu1_amd64.deb [following]\n",
            "--2018-10-22 09:49:04--  https://launchpadlibrarian.net/386846978/google-drive-ocamlfuse_0.7.0-0ubuntu1_amd64.deb\n",
            "Resolving launchpadlibrarian.net (launchpadlibrarian.net)... 91.189.89.228, 91.189.89.229\n",
            "Connecting to launchpadlibrarian.net (launchpadlibrarian.net)|91.189.89.228|:443... connected.\n",
            "HTTP request sent, awaiting response... 200 OK\n",
            "Length: 1232624 (1.2M) [application/x-debian-package]\n",
            "Saving to: ‘google-drive-ocamlfuse_0.7.0-0ubuntu1_amd64.deb’\n",
            "\n",
            "google-drive-ocamlf 100%[===================>]   1.17M  2.02MB/s    in 0.6s    \n",
            "\n",
            "2018-10-22 09:49:05 (2.02 MB/s) - ‘google-drive-ocamlfuse_0.7.0-0ubuntu1_amd64.deb’ saved [1232624/1232624]\n",
            "\n",
            "Selecting previously unselected package google-drive-ocamlfuse.\n",
            "(Reading database ... 22278 files and directories currently installed.)\n",
            "Preparing to unpack google-drive-ocamlfuse_0.7.0-0ubuntu1_amd64.deb ...\n",
            "Unpacking google-drive-ocamlfuse (0.7.0-0ubuntu1) ...\n",
            "\u001b[1mdpkg:\u001b[0m dependency problems prevent configuration of google-drive-ocamlfuse:\n",
            " google-drive-ocamlfuse depends on libfuse2 (>= 2.8); however:\n",
            "  Package libfuse2 is not installed.\n",
            "\n",
            "\u001b[1mdpkg:\u001b[0m error processing package google-drive-ocamlfuse (--install):\n",
            " dependency problems - leaving unconfigured\n",
            "Errors were encountered while processing:\n",
            " google-drive-ocamlfuse\n",
            "Reading package lists... Done\n",
            "Building dependency tree       \n",
            "Reading state information... Done\n",
            "Correcting dependencies... Done\n",
            "The following additional packages will be installed:\n",
            "  libfuse2\n",
            "Suggested packages:\n",
            "  fuse\n",
            "The following NEW packages will be installed:\n",
            "  libfuse2\n",
            "0 upgraded, 1 newly installed, 0 to remove and 12 not upgraded.\n",
            "1 not fully installed or removed.\n",
            "Need to get 80.9 kB of archives.\n",
            "After this operation, 313 kB of additional disk space will be used.\n",
            "Get:1 http://archive.ubuntu.com/ubuntu bionic/main amd64 libfuse2 amd64 2.9.7-1ubuntu1 [80.9 kB]\n",
            "Fetched 80.9 kB in 0s (168 kB/s)\n",
            "Selecting previously unselected package libfuse2:amd64.\n",
            "(Reading database ... 22283 files and directories currently installed.)\n",
            "Preparing to unpack .../libfuse2_2.9.7-1ubuntu1_amd64.deb ...\n",
            "Unpacking libfuse2:amd64 (2.9.7-1ubuntu1) ...\n",
            "Setting up libfuse2:amd64 (2.9.7-1ubuntu1) ...\n",
            "Processing triggers for libc-bin (2.27-3ubuntu1) ...\n",
            "Setting up google-drive-ocamlfuse (0.7.0-0ubuntu1) ...\n",
            "Selecting previously unselected package fuse.\n",
            "(Reading database ... 22295 files and directories currently installed.)\n",
            "Preparing to unpack .../fuse_2.9.7-1ubuntu1_amd64.deb ...\n",
            "Unpacking fuse (2.9.7-1ubuntu1) ...\n",
            "Setting up fuse (2.9.7-1ubuntu1) ...\n",
            "Please, open the following URL in a web browser: https://accounts.google.com/o/oauth2/auth?client_id=32555940559.apps.googleusercontent.com&redirect_uri=urn%3Aietf%3Awg%3Aoauth%3A2.0%3Aoob&scope=https%3A%2F%2Fwww.googleapis.com%2Fauth%2Fdrive&response_type=code&access_type=offline&approval_prompt=force\n",
            "··········\n",
            "Please, open the following URL in a web browser: https://accounts.google.com/o/oauth2/auth?client_id=32555940559.apps.googleusercontent.com&redirect_uri=urn%3Aietf%3Awg%3Aoauth%3A2.0%3Aoob&scope=https%3A%2F%2Fwww.googleapis.com%2Fauth%2Fdrive&response_type=code&access_type=offline&approval_prompt=force\n",
            "Please enter the verification code: Access token retrieved correctly.\n"
          ],
          "name": "stdout"
        }
      ]
    },
    {
      "metadata": {
        "id": "EI-2OZZFLBDA",
        "colab_type": "code",
        "outputId": "c134d643-debc-4335-d697-43c902ff82d8",
        "colab": {
          "base_uri": "https://localhost:8080/",
          "height": 287
        }
      },
      "cell_type": "code",
      "source": [
        "import torch"
      ],
      "execution_count": 0,
      "outputs": [
        {
          "output_type": "error",
          "ename": "ImportError",
          "evalue": "ignored",
          "traceback": [
            "\u001b[0;31m\u001b[0m",
            "\u001b[0;31mImportError\u001b[0mTraceback (most recent call last)",
            "\u001b[0;32m<ipython-input-1-eb42ca6e4af3>\u001b[0m in \u001b[0;36m<module>\u001b[0;34m()\u001b[0m\n\u001b[0;32m----> 1\u001b[0;31m \u001b[0;32mimport\u001b[0m \u001b[0mtorch\u001b[0m\u001b[0;34m\u001b[0m\u001b[0m\n\u001b[0m",
            "\u001b[0;31mImportError\u001b[0m: No module named torch",
            "",
            "\u001b[0;31m---------------------------------------------------------------------------\u001b[0;32m\nNOTE: If your import is failing due to a missing package, you can\nmanually install dependencies using either !pip or !apt.\n\nTo install torch, click the button below.\n\u001b[0;31m---------------------------------------------------------------------------\u001b[0m\n"
          ]
        }
      ]
    },
    {
      "metadata": {
        "id": "7BA78TIALRxt",
        "colab_type": "code",
        "colab": {}
      },
      "cell_type": "code",
      "source": [
        ""
      ],
      "execution_count": 0,
      "outputs": []
    },
    {
      "metadata": {
        "id": "56xqLwFD2k9A",
        "colab_type": "code",
        "colab": {}
      },
      "cell_type": "code",
      "source": [
        "!mkdir -p drive\n",
        "!google-drive-ocamlfuse drive"
      ],
      "execution_count": 0,
      "outputs": []
    },
    {
      "metadata": {
        "id": "cc9OUjNH2tha",
        "colab_type": "code",
        "outputId": "76c1a4ac-c5b8-4de6-b097-547d0b8bfc46",
        "colab": {
          "base_uri": "https://localhost:8080/",
          "height": 68
        }
      },
      "cell_type": "code",
      "source": [
        "!ls"
      ],
      "execution_count": 0,
      "outputs": [
        {
          "output_type": "stream",
          "text": [
            "data\tLICENSE   options    requirements.txt  test2\ttrain.py\n",
            "drive\tmodels\t  output     sample_dataset    test5\tutils\n",
            "launch\tnetworks  README.md  test\t       test.py\n"
          ],
          "name": "stdout"
        }
      ]
    },
    {
      "metadata": {
        "id": "l_dLtBAz23vd",
        "colab_type": "code",
        "colab": {}
      },
      "cell_type": "code",
      "source": [
        "import os\n",
        " \n",
        "\n",
        "\n",
        "os.chdir(\"drive/app/GANimation-master\")"
      ],
      "execution_count": 0,
      "outputs": []
    },
    {
      "metadata": {
        "id": "Yx9U5x3L4Gt0",
        "colab_type": "code",
        "outputId": "4c609461-170d-488a-b20c-e4f276f74b5d",
        "colab": {
          "base_uri": "https://localhost:8080/",
          "height": 4321
        }
      },
      "cell_type": "code",
      "source": [
        "!python train.py --data_dir test5 --name experiment_1 --batch_size 25"
      ],
      "execution_count": 0,
      "outputs": [
        {
          "output_type": "stream",
          "text": [
            "------------ Options -------------\n",
            "D_adam_b1: 0.5\n",
            "D_adam_b2: 0.999\n",
            "G_adam_b1: 0.5\n",
            "G_adam_b2: 0.999\n",
            "aus_file: aus_openface.pkl\n",
            "batch_size: 25\n",
            "checkpoints_dir: ./checkpoints\n",
            "cond_nc: 17\n",
            "data_dir: test5\n",
            "dataset_mode: aus\n",
            "display_freq_s: 300\n",
            "do_saturate_mask: False\n",
            "gpu_ids: [0]\n",
            "image_size: 128\n",
            "images_folder: imgs\n",
            "is_train: True\n",
            "lambda_D_cond: 4000\n",
            "lambda_D_gp: 10\n",
            "lambda_D_prob: 1\n",
            "lambda_cyc: 10\n",
            "lambda_mask: 0.1\n",
            "lambda_mask_smooth: 1e-05\n",
            "load_epoch: 0\n",
            "lr_D: 0.0001\n",
            "lr_G: 0.0001\n",
            "model: ganimation\n",
            "n_threads_test: 1\n",
            "n_threads_train: 4\n",
            "name: experiment_1\n",
            "nepochs_decay: 10\n",
            "nepochs_no_decay: 20\n",
            "num_iters_validate: 1\n",
            "poses_g_sigma: 0.06\n",
            "print_freq_s: 60\n",
            "save_latest_freq_s: 3600\n",
            "serial_batches: False\n",
            "test_ids_file: test_ids.csv\n",
            "train_G_every_n_iterations: 5\n",
            "train_ids_file: train_ids.csv\n",
            "-------------- End ----------------\n",
            "./checkpoints/experiment_1\n",
            "Dataset AusDataset was created\n",
            "Dataset AusDataset was created\n",
            "#train images = 197\n",
            "#test images = 197\n",
            "Network generator_wasserstein_gan was created\n",
            "Network discriminator_wasserstein_gan was created\n",
            "Model GANimation was created\n",
            "/content/drive/app/GANimation-master/drive/app/GANimation-master/drive/app/GANimation-master/models/ganimation.py:320: UserWarning: invalid index of a 0-dim tensor. This will be an error in PyTorch 0.5. Use tensor.item() to convert a 0-dim tensor to a Python number\n",
            "  ('g_mskd_fake', self._loss_g_masked_fake.data[0]),\n",
            "/content/drive/app/GANimation-master/drive/app/GANimation-master/drive/app/GANimation-master/models/ganimation.py:321: UserWarning: invalid index of a 0-dim tensor. This will be an error in PyTorch 0.5. Use tensor.item() to convert a 0-dim tensor to a Python number\n",
            "  ('g_mskd_cond', self._loss_g_masked_cond.data[0]),\n",
            "/content/drive/app/GANimation-master/drive/app/GANimation-master/drive/app/GANimation-master/models/ganimation.py:322: UserWarning: invalid index of a 0-dim tensor. This will be an error in PyTorch 0.5. Use tensor.item() to convert a 0-dim tensor to a Python number\n",
            "  ('g_cyc', self._loss_g_cyc.data[0]),\n",
            "/content/drive/app/GANimation-master/drive/app/GANimation-master/drive/app/GANimation-master/models/ganimation.py:326: UserWarning: invalid index of a 0-dim tensor. This will be an error in PyTorch 0.5. Use tensor.item() to convert a 0-dim tensor to a Python number\n",
            "  ('g_m1', self._loss_g_mask_1.data[0]),\n",
            "/content/drive/app/GANimation-master/drive/app/GANimation-master/drive/app/GANimation-master/models/ganimation.py:327: UserWarning: invalid index of a 0-dim tensor. This will be an error in PyTorch 0.5. Use tensor.item() to convert a 0-dim tensor to a Python number\n",
            "  ('g_m2', self._loss_g_mask_2.data[0]),\n",
            "/content/drive/app/GANimation-master/drive/app/GANimation-master/drive/app/GANimation-master/models/ganimation.py:328: UserWarning: invalid index of a 0-dim tensor. This will be an error in PyTorch 0.5. Use tensor.item() to convert a 0-dim tensor to a Python number\n",
            "  ('g_m1_s', self._loss_g_mask_1_smooth.data[0]),\n",
            "/content/drive/app/GANimation-master/drive/app/GANimation-master/drive/app/GANimation-master/models/ganimation.py:329: UserWarning: invalid index of a 0-dim tensor. This will be an error in PyTorch 0.5. Use tensor.item() to convert a 0-dim tensor to a Python number\n",
            "  ('g_m2_s', self._loss_g_mask_2_smooth.data[0]),\n",
            "/content/drive/app/GANimation-master/drive/app/GANimation-master/drive/app/GANimation-master/models/ganimation.py:331: UserWarning: invalid index of a 0-dim tensor. This will be an error in PyTorch 0.5. Use tensor.item() to convert a 0-dim tensor to a Python number\n",
            "  ('d_real', self._loss_d_real.data[0]),\n",
            "/content/drive/app/GANimation-master/drive/app/GANimation-master/drive/app/GANimation-master/models/ganimation.py:332: UserWarning: invalid index of a 0-dim tensor. This will be an error in PyTorch 0.5. Use tensor.item() to convert a 0-dim tensor to a Python number\n",
            "  ('d_cond', self._loss_d_cond.data[0]),\n",
            "/content/drive/app/GANimation-master/drive/app/GANimation-master/drive/app/GANimation-master/models/ganimation.py:333: UserWarning: invalid index of a 0-dim tensor. This will be an error in PyTorch 0.5. Use tensor.item() to convert a 0-dim tensor to a Python number\n",
            "  ('d_fake', self._loss_d_fake.data[0]),\n",
            "/content/drive/app/GANimation-master/drive/app/GANimation-master/drive/app/GANimation-master/models/ganimation.py:334: UserWarning: invalid index of a 0-dim tensor. This will be an error in PyTorch 0.5. Use tensor.item() to convert a 0-dim tensor to a Python number\n",
            "  ('d_gp', self._loss_d_gp.data[0])])\n",
            "[22/10/2018 11:35:14] (Tv, epoch: 1, it: 0/7, t/smpl: 0.324s) g_fake:0.000 g_cond:0.000 g_mskd_fake:-0.012 g_mskd_cond:15615.143 g_cyc:4.867 g_rgb:0.000 g_rgb_un:0.000 g_rgb_s:0.000 g_m1:0.045 g_m2:0.046 g_m1_s:0.799 g_m2_s:0.782 g_idt:0.000 d_real:0.007 d_cond:16240.795 d_fake:-0.006 d_gp:7.216 \n",
            "/content/drive/app/GANimation-master/drive/app/GANimation-master/drive/app/GANimation-master/models/ganimation.py:126: UserWarning: volatile was removed and now has no effect. Use `with torch.no_grad():` instead.\n",
            "  real_img = Variable(self._input_real_img, volatile=True)\n",
            "/content/drive/app/GANimation-master/drive/app/GANimation-master/drive/app/GANimation-master/models/ganimation.py:127: UserWarning: volatile was removed and now has no effect. Use `with torch.no_grad():` instead.\n",
            "  real_cond = Variable(self._input_real_cond, volatile=True)\n",
            "/content/drive/app/GANimation-master/drive/app/GANimation-master/drive/app/GANimation-master/models/ganimation.py:128: UserWarning: volatile was removed and now has no effect. Use `with torch.no_grad():` instead.\n",
            "  desired_cond = Variable(self._input_desired_cond, volatile=True)\n",
            "[22/10/2018 11:35:27] (V, epoch: 1, time_to_val: 9s) g_fake:0.000 g_cond:0.000 g_mskd_fake:-0.012 g_mskd_cond:15615.143 g_cyc:4.867 g_rgb:0.000 g_rgb_un:0.000 g_rgb_s:0.000 g_m1:0.045 g_m2:0.046 g_m1_s:0.799 g_m2_s:0.782 g_idt:0.000 d_real:0.007 d_cond:16240.795 d_fake:-0.006 d_gp:7.216 \n",
            "saving the latest model (epoch 1, total_steps 25)\n",
            "saved net: ./checkpoints/experiment_1/net_epoch_1_id_G.pth\n",
            "saved net: ./checkpoints/experiment_1/net_epoch_1_id_D.pth\n",
            "saving the model at the end of epoch 1, iters 175\n",
            "saved net: ./checkpoints/experiment_1/net_epoch_1_id_G.pth\n",
            "saved net: ./checkpoints/experiment_1/net_epoch_1_id_D.pth\n",
            "End of epoch 1 / 30 \t Time Taken: 116 sec (1 min or 0 h)\n",
            "error reading image 000151, skipping sample\n",
            "[22/10/2018 11:36:54] (T, epoch: 2, it: 0/7, t/smpl: 0.069s) g_fake:0.000 g_cond:0.000 g_mskd_fake:-0.763 g_mskd_cond:7879.487 g_cyc:4.615 g_rgb:0.000 g_rgb_un:0.000 g_rgb_s:0.000 g_m1:0.047 g_m2:0.047 g_m1_s:0.828 g_m2_s:0.812 g_idt:0.000 d_real:-2.217 d_cond:2152.918 d_fake:1.887 d_gp:4.689 \n",
            "saving the model at the end of epoch 2, iters 350\n",
            "saved net: ./checkpoints/experiment_1/net_epoch_2_id_G.pth\n",
            "saved net: ./checkpoints/experiment_1/net_epoch_2_id_D.pth\n",
            "End of epoch 2 / 30 \t Time Taken: 56 sec (0 min or 0 h)\n",
            "[22/10/2018 11:38:02] (T, epoch: 3, it: 5/7, t/smpl: 0.073s) g_fake:0.000 g_cond:0.000 g_mskd_fake:-9.854 g_mskd_cond:135.147 g_cyc:4.284 g_rgb:0.000 g_rgb_un:0.000 g_rgb_s:0.000 g_m1:0.049 g_m2:0.049 g_m1_s:0.961 g_m2_s:0.953 g_idt:0.000 d_real:-10.232 d_cond:460.646 d_fake:9.950 d_gp:1.489 \n",
            "saving the model at the end of epoch 3, iters 525\n",
            "saved net: ./checkpoints/experiment_1/net_epoch_3_id_G.pth\n",
            "saved net: ./checkpoints/experiment_1/net_epoch_3_id_D.pth\n",
            "End of epoch 3 / 30 \t Time Taken: 51 sec (0 min or 0 h)\n",
            "saving the model at the end of epoch 4, iters 700\n",
            "saved net: ./checkpoints/experiment_1/net_epoch_4_id_G.pth\n",
            "saved net: ./checkpoints/experiment_1/net_epoch_4_id_D.pth\n",
            "End of epoch 4 / 30 \t Time Taken: 49 sec (0 min or 0 h)\n",
            "[22/10/2018 11:39:34] (T, epoch: 5, it: 0/7, t/smpl: 0.069s) g_fake:0.000 g_cond:0.000 g_mskd_fake:-9.010 g_mskd_cond:1025.104 g_cyc:4.505 g_rgb:0.000 g_rgb_un:0.000 g_rgb_s:0.000 g_m1:0.050 g_m2:0.050 g_m1_s:0.950 g_m2_s:0.944 g_idt:0.000 d_real:-9.952 d_cond:607.903 d_fake:10.993 d_gp:0.330 \n",
            "saving the model at the end of epoch 5, iters 875\n",
            "saved net: ./checkpoints/experiment_1/net_epoch_5_id_G.pth\n",
            "saved net: ./checkpoints/experiment_1/net_epoch_5_id_D.pth\n",
            "End of epoch 5 / 30 \t Time Taken: 56 sec (0 min or 0 h)\n",
            "[22/10/2018 11:40:38] (Tv, epoch: 6, it: 2/7, t/smpl: 0.280s) g_fake:0.000 g_cond:0.000 g_mskd_fake:-12.190 g_mskd_cond:200.029 g_cyc:4.143 g_rgb:0.000 g_rgb_un:0.000 g_rgb_s:0.000 g_m1:0.051 g_m2:0.051 g_m1_s:0.987 g_m2_s:0.988 g_idt:0.000 d_real:-14.334 d_cond:370.022 d_fake:15.125 d_gp:0.232 \n",
            "[22/10/2018 11:40:48] (V, epoch: 6, time_to_val: 6s) g_fake:0.000 g_cond:0.000 g_mskd_fake:-12.190 g_mskd_cond:200.029 g_cyc:4.143 g_rgb:0.000 g_rgb_un:0.000 g_rgb_s:0.000 g_m1:0.051 g_m2:0.051 g_m1_s:0.987 g_m2_s:0.988 g_idt:0.000 d_real:-14.334 d_cond:370.022 d_fake:15.125 d_gp:0.232 \n",
            "saving the model at the end of epoch 6, iters 1050\n",
            "saved net: ./checkpoints/experiment_1/net_epoch_6_id_G.pth\n",
            "saved net: ./checkpoints/experiment_1/net_epoch_6_id_D.pth\n",
            "End of epoch 6 / 30 \t Time Taken: 70 sec (1 min or 0 h)\n",
            "[22/10/2018 11:41:43] (T, epoch: 7, it: 2/7, t/smpl: 0.082s) g_fake:0.000 g_cond:0.000 g_mskd_fake:-14.772 g_mskd_cond:319.226 g_cyc:4.163 g_rgb:0.000 g_rgb_un:0.000 g_rgb_s:0.000 g_m1:0.051 g_m2:0.051 g_m1_s:0.988 g_m2_s:0.986 g_idt:0.000 d_real:-14.471 d_cond:360.398 d_fake:14.663 d_gp:0.104 \n",
            "saving the model at the end of epoch 7, iters 1225\n",
            "saved net: ./checkpoints/experiment_1/net_epoch_7_id_G.pth\n",
            "saved net: ./checkpoints/experiment_1/net_epoch_7_id_D.pth\n",
            "End of epoch 7 / 30 \t Time Taken: 55 sec (0 min or 0 h)\n",
            "[22/10/2018 11:42:50] (T, epoch: 8, it: 5/7, t/smpl: 0.074s) g_fake:0.000 g_cond:0.000 g_mskd_fake:-16.926 g_mskd_cond:683.673 g_cyc:4.315 g_rgb:0.000 g_rgb_un:0.000 g_rgb_s:0.000 g_m1:0.051 g_m2:0.051 g_m1_s:0.985 g_m2_s:0.981 g_idt:0.000 d_real:-16.283 d_cond:523.028 d_fake:16.167 d_gp:0.234 \n",
            "saving the model at the end of epoch 8, iters 1400\n",
            "saved net: ./checkpoints/experiment_1/net_epoch_8_id_G.pth\n",
            "saved net: ./checkpoints/experiment_1/net_epoch_8_id_D.pth\n",
            "End of epoch 8 / 30 \t Time Taken: 55 sec (0 min or 0 h)\n",
            "saving the model at the end of epoch 9, iters 1575\n",
            "saved net: ./checkpoints/experiment_1/net_epoch_9_id_G.pth\n",
            "saved net: ./checkpoints/experiment_1/net_epoch_9_id_D.pth\n",
            "End of epoch 9 / 30 \t Time Taken: 50 sec (0 min or 0 h)\n",
            "[22/10/2018 11:44:22] (T, epoch: 10, it: 0/7, t/smpl: 0.069s) g_fake:0.000 g_cond:0.000 g_mskd_fake:-12.422 g_mskd_cond:435.311 g_cyc:4.169 g_rgb:0.000 g_rgb_un:0.000 g_rgb_s:0.000 g_m1:0.052 g_m2:0.052 g_m1_s:0.950 g_m2_s:0.947 g_idt:0.000 d_real:-8.218 d_cond:4046.557 d_fake:8.594 d_gp:0.265 \n",
            "saving the model at the end of epoch 10, iters 1750\n",
            "saved net: ./checkpoints/experiment_1/net_epoch_10_id_G.pth\n",
            "saved net: ./checkpoints/experiment_1/net_epoch_10_id_D.pth\n",
            "End of epoch 10 / 30 \t Time Taken: 54 sec (0 min or 0 h)\n",
            "[22/10/2018 11:45:32] (T, epoch: 11, it: 5/7, t/smpl: 0.074s) g_fake:0.000 g_cond:0.000 g_mskd_fake:-15.168 g_mskd_cond:71.026 g_cyc:3.999 g_rgb:0.000 g_rgb_un:0.000 g_rgb_s:0.000 g_m1:0.052 g_m2:0.052 g_m1_s:0.929 g_m2_s:0.927 g_idt:0.000 d_real:-15.785 d_cond:128.835 d_fake:15.252 d_gp:0.027 \n",
            "saving the model at the end of epoch 11, iters 1925\n",
            "saved net: ./checkpoints/experiment_1/net_epoch_11_id_G.pth\n",
            "saved net: ./checkpoints/experiment_1/net_epoch_11_id_D.pth\n",
            "End of epoch 11 / 30 \t Time Taken: 55 sec (0 min or 0 h)\n",
            "[22/10/2018 11:46:15] (Tv, epoch: 12, it: 0/7, t/smpl: 0.268s) g_fake:0.000 g_cond:0.000 g_mskd_fake:-12.833 g_mskd_cond:584.747 g_cyc:4.159 g_rgb:0.000 g_rgb_un:0.000 g_rgb_s:0.000 g_m1:0.052 g_m2:0.052 g_m1_s:0.927 g_m2_s:0.925 g_idt:0.000 d_real:-16.823 d_cond:278.480 d_fake:15.921 d_gp:0.092 \n",
            "[22/10/2018 11:46:22] (V, epoch: 12, time_to_val: 4s) g_fake:0.000 g_cond:0.000 g_mskd_fake:-12.833 g_mskd_cond:584.747 g_cyc:4.159 g_rgb:0.000 g_rgb_un:0.000 g_rgb_s:0.000 g_m1:0.052 g_m2:0.052 g_m1_s:0.927 g_m2_s:0.925 g_idt:0.000 d_real:-16.823 d_cond:278.480 d_fake:15.921 d_gp:0.092 \n",
            "saving the model at the end of epoch 12, iters 2100\n",
            "saved net: ./checkpoints/experiment_1/net_epoch_12_id_G.pth\n",
            "saved net: ./checkpoints/experiment_1/net_epoch_12_id_D.pth\n",
            "End of epoch 12 / 30 \t Time Taken: 65 sec (1 min or 0 h)\n",
            "[22/10/2018 11:47:19] (T, epoch: 13, it: 2/7, t/smpl: 0.082s) g_fake:0.000 g_cond:0.000 g_mskd_fake:-13.992 g_mskd_cond:190.730 g_cyc:4.271 g_rgb:0.000 g_rgb_un:0.000 g_rgb_s:0.000 g_m1:0.052 g_m2:0.052 g_m1_s:0.919 g_m2_s:0.912 g_idt:0.000 d_real:-12.567 d_cond:615.453 d_fake:13.519 d_gp:0.051 \n",
            "saving the model at the end of epoch 13, iters 2275\n",
            "saved net: ./checkpoints/experiment_1/net_epoch_13_id_G.pth\n",
            "saved net: ./checkpoints/experiment_1/net_epoch_13_id_D.pth\n",
            "End of epoch 13 / 30 \t Time Taken: 51 sec (0 min or 0 h)\n",
            "[22/10/2018 11:48:23] (T, epoch: 14, it: 5/7, t/smpl: 0.073s) g_fake:0.000 g_cond:0.000 g_mskd_fake:-16.813 g_mskd_cond:227.674 g_cyc:4.273 g_rgb:0.000 g_rgb_un:0.000 g_rgb_s:0.000 g_m1:0.053 g_m2:0.053 g_m1_s:0.890 g_m2_s:0.882 g_idt:0.000 d_real:-16.672 d_cond:227.121 d_fake:15.441 d_gp:0.049 \n",
            "saving the model at the end of epoch 14, iters 2450\n",
            "saved net: ./checkpoints/experiment_1/net_epoch_14_id_G.pth\n",
            "saved net: ./checkpoints/experiment_1/net_epoch_14_id_D.pth\n",
            "End of epoch 14 / 30 \t Time Taken: 52 sec (0 min or 0 h)\n",
            "saving the model at the end of epoch 15, iters 2625\n",
            "saved net: ./checkpoints/experiment_1/net_epoch_15_id_G.pth\n",
            "saved net: ./checkpoints/experiment_1/net_epoch_15_id_D.pth\n",
            "End of epoch 15 / 30 \t Time Taken: 48 sec (0 min or 0 h)\n",
            "[22/10/2018 11:49:51] (T, epoch: 16, it: 0/7, t/smpl: 0.069s) g_fake:0.000 g_cond:0.000 g_mskd_fake:-11.477 g_mskd_cond:1486.486 g_cyc:4.272 g_rgb:0.000 g_rgb_un:0.000 g_rgb_s:0.000 g_m1:0.053 g_m2:0.053 g_m1_s:0.875 g_m2_s:0.873 g_idt:0.000 d_real:-13.662 d_cond:493.541 d_fake:13.738 d_gp:0.047 \n",
            "saving the model at the end of epoch 16, iters 2800\n",
            "saved net: ./checkpoints/experiment_1/net_epoch_16_id_G.pth\n",
            "saved net: ./checkpoints/experiment_1/net_epoch_16_id_D.pth\n",
            "End of epoch 16 / 30 \t Time Taken: 53 sec (0 min or 0 h)\n",
            "[22/10/2018 11:51:00] (T, epoch: 17, it: 5/7, t/smpl: 0.073s) g_fake:0.000 g_cond:0.000 g_mskd_fake:-15.770 g_mskd_cond:36.748 g_cyc:4.022 g_rgb:0.000 g_rgb_un:0.000 g_rgb_s:0.000 g_m1:0.054 g_m2:0.054 g_m1_s:0.909 g_m2_s:0.905 g_idt:0.000 d_real:-16.254 d_cond:111.758 d_fake:16.065 d_gp:0.028 \n",
            "saving the model at the end of epoch 17, iters 2975\n",
            "saved net: ./checkpoints/experiment_1/net_epoch_17_id_G.pth\n",
            "saved net: ./checkpoints/experiment_1/net_epoch_17_id_D.pth\n",
            "End of epoch 17 / 30 \t Time Taken: 55 sec (0 min or 0 h)\n",
            "[22/10/2018 11:51:37] (Tv, epoch: 18, it: 0/7, t/smpl: 0.268s) g_fake:0.000 g_cond:0.000 g_mskd_fake:-13.526 g_mskd_cond:435.356 g_cyc:4.069 g_rgb:0.000 g_rgb_un:0.000 g_rgb_s:0.000 g_m1:0.054 g_m2:0.054 g_m1_s:0.899 g_m2_s:0.895 g_idt:0.000 d_real:-16.980 d_cond:387.069 d_fake:16.877 d_gp:0.060 \n",
            "[22/10/2018 11:51:47] (V, epoch: 18, time_to_val: 5s) g_fake:0.000 g_cond:0.000 g_mskd_fake:-13.526 g_mskd_cond:435.356 g_cyc:4.069 g_rgb:0.000 g_rgb_un:0.000 g_rgb_s:0.000 g_m1:0.054 g_m2:0.054 g_m1_s:0.899 g_m2_s:0.895 g_idt:0.000 d_real:-16.980 d_cond:387.069 d_fake:16.877 d_gp:0.060 \n",
            "saving the model at the end of epoch 18, iters 3150\n",
            "saved net: ./checkpoints/experiment_1/net_epoch_18_id_G.pth\n",
            "saved net: ./checkpoints/experiment_1/net_epoch_18_id_D.pth\n",
            "End of epoch 18 / 30 \t Time Taken: 63 sec (1 min or 0 h)\n",
            "[22/10/2018 11:52:46] (T, epoch: 19, it: 1/7, t/smpl: 0.066s) g_fake:0.000 g_cond:0.000 g_mskd_fake:-11.068 g_mskd_cond:1381.038 g_cyc:4.291 g_rgb:0.000 g_rgb_un:0.000 g_rgb_s:0.000 g_m1:0.053 g_m2:0.053 g_m1_s:0.921 g_m2_s:0.916 g_idt:0.000 d_real:-14.673 d_cond:187.224 d_fake:16.534 d_gp:0.115 \n",
            "saving the model at the end of epoch 19, iters 3325\n",
            "saved net: ./checkpoints/experiment_1/net_epoch_19_id_G.pth\n",
            "saved net: ./checkpoints/experiment_1/net_epoch_19_id_D.pth\n",
            "End of epoch 19 / 30 \t Time Taken: 55 sec (0 min or 0 h)\n",
            "[22/10/2018 11:53:50] (T, epoch: 20, it: 5/7, t/smpl: 0.074s) g_fake:0.000 g_cond:0.000 g_mskd_fake:-17.544 g_mskd_cond:1667.135 g_cyc:4.498 g_rgb:0.000 g_rgb_un:0.000 g_rgb_s:0.000 g_m1:0.050 g_m2:0.050 g_m1_s:0.997 g_m2_s:0.986 g_idt:0.000 d_real:-15.174 d_cond:316.786 d_fake:16.390 d_gp:0.317 \n",
            "saving the model at the end of epoch 20, iters 3500\n",
            "saved net: ./checkpoints/experiment_1/net_epoch_20_id_G.pth\n",
            "saved net: ./checkpoints/experiment_1/net_epoch_20_id_D.pth\n",
            "End of epoch 20 / 30 \t Time Taken: 51 sec (0 min or 0 h)\n",
            "saving the model at the end of epoch 21, iters 3675\n",
            "saved net: ./checkpoints/experiment_1/net_epoch_21_id_G.pth\n",
            "saved net: ./checkpoints/experiment_1/net_epoch_21_id_D.pth\n",
            "End of epoch 21 / 30 \t Time Taken: 54 sec (0 min or 0 h)\n",
            "update G learning rate: 0.000100 -> 0.000090\n",
            "update D learning rate: 0.000100 -> 0.000090\n",
            "[22/10/2018 11:55:24] (T, epoch: 22, it: 0/7, t/smpl: 0.068s) g_fake:0.000 g_cond:0.000 g_mskd_fake:-13.672 g_mskd_cond:35.892 g_cyc:4.252 g_rgb:0.000 g_rgb_un:0.000 g_rgb_s:0.000 g_m1:0.052 g_m2:0.052 g_m1_s:0.993 g_m2_s:0.985 g_idt:0.000 d_real:-15.029 d_cond:277.076 d_fake:15.987 d_gp:0.151 \n",
            "saving the model at the end of epoch 22, iters 3850\n",
            "saved net: ./checkpoints/experiment_1/net_epoch_22_id_G.pth\n",
            "saved net: ./checkpoints/experiment_1/net_epoch_22_id_D.pth\n",
            "End of epoch 22 / 30 \t Time Taken: 55 sec (0 min or 0 h)\n",
            "update G learning rate: 0.000090 -> 0.000080\n",
            "update D learning rate: 0.000090 -> 0.000080\n",
            "[22/10/2018 11:56:34] (T, epoch: 23, it: 5/7, t/smpl: 0.074s) g_fake:0.000 g_cond:0.000 g_mskd_fake:-15.847 g_mskd_cond:238.560 g_cyc:4.053 g_rgb:0.000 g_rgb_un:0.000 g_rgb_s:0.000 g_m1:0.054 g_m2:0.054 g_m1_s:0.971 g_m2_s:0.964 g_idt:0.000 d_real:-16.109 d_cond:219.210 d_fake:15.584 d_gp:0.112 \n",
            "saving the model at the end of epoch 23, iters 4025\n",
            "saved net: ./checkpoints/experiment_1/net_epoch_23_id_G.pth\n",
            "saved net: ./checkpoints/experiment_1/net_epoch_23_id_D.pth\n",
            "End of epoch 23 / 30 \t Time Taken: 56 sec (0 min or 0 h)\n",
            "update G learning rate: 0.000080 -> 0.000070\n",
            "update D learning rate: 0.000080 -> 0.000070\n",
            "[22/10/2018 11:57:21] (Tv, epoch: 24, it: 0/7, t/smpl: 0.266s) g_fake:0.000 g_cond:0.000 g_mskd_fake:-14.358 g_mskd_cond:46.934 g_cyc:4.000 g_rgb:0.000 g_rgb_un:0.000 g_rgb_s:0.000 g_m1:0.055 g_m2:0.055 g_m1_s:0.936 g_m2_s:0.928 g_idt:0.000 d_real:-15.633 d_cond:201.000 d_fake:15.304 d_gp:0.055 \n",
            "[22/10/2018 11:57:30] (V, epoch: 24, time_to_val: 5s) g_fake:0.000 g_cond:0.000 g_mskd_fake:-14.358 g_mskd_cond:46.934 g_cyc:4.000 g_rgb:0.000 g_rgb_un:0.000 g_rgb_s:0.000 g_m1:0.055 g_m2:0.055 g_m1_s:0.936 g_m2_s:0.928 g_idt:0.000 d_real:-15.633 d_cond:201.000 d_fake:15.304 d_gp:0.055 \n",
            "saving the model at the end of epoch 24, iters 4200\n",
            "saved net: ./checkpoints/experiment_1/net_epoch_24_id_G.pth\n",
            "saved net: ./checkpoints/experiment_1/net_epoch_24_id_D.pth\n",
            "End of epoch 24 / 30 \t Time Taken: 71 sec (1 min or 0 h)\n",
            "update G learning rate: 0.000070 -> 0.000060\n",
            "update D learning rate: 0.000070 -> 0.000060\n",
            "[22/10/2018 11:58:24] (T, epoch: 25, it: 0/7, t/smpl: 0.069s) g_fake:0.000 g_cond:0.000 g_mskd_fake:-14.095 g_mskd_cond:219.928 g_cyc:4.206 g_rgb:0.000 g_rgb_un:0.000 g_rgb_s:0.000 g_m1:0.055 g_m2:0.055 g_m1_s:0.928 g_m2_s:0.919 g_idt:0.000 d_real:-16.054 d_cond:165.279 d_fake:15.824 d_gp:0.049 \n",
            "saving the model at the end of epoch 25, iters 4375\n",
            "saved net: ./checkpoints/experiment_1/net_epoch_25_id_G.pth\n",
            "saved net: ./checkpoints/experiment_1/net_epoch_25_id_D.pth\n",
            "End of epoch 25 / 30 \t Time Taken: 51 sec (0 min or 0 h)\n",
            "update G learning rate: 0.000060 -> 0.000050\n",
            "update D learning rate: 0.000060 -> 0.000050\n",
            "[22/10/2018 11:59:33] (T, epoch: 26, it: 4/7, t/smpl: 0.279s) g_fake:0.000 g_cond:0.000 g_mskd_fake:-15.047 g_mskd_cond:45.035 g_cyc:4.050 g_rgb:0.000 g_rgb_un:0.000 g_rgb_s:0.000 g_m1:0.055 g_m2:0.055 g_m1_s:0.942 g_m2_s:0.935 g_idt:0.000 d_real:-15.783 d_cond:161.074 d_fake:15.699 d_gp:0.034 \n",
            "saving the model at the end of epoch 26, iters 4550\n",
            "saved net: ./checkpoints/experiment_1/net_epoch_26_id_G.pth\n",
            "saved net: ./checkpoints/experiment_1/net_epoch_26_id_D.pth\n",
            "End of epoch 26 / 30 \t Time Taken: 58 sec (0 min or 0 h)\n",
            "update G learning rate: 0.000050 -> 0.000040\n",
            "update D learning rate: 0.000050 -> 0.000040\n",
            "saving the model at the end of epoch 27, iters 4725\n",
            "saved net: ./checkpoints/experiment_1/net_epoch_27_id_G.pth\n",
            "saved net: ./checkpoints/experiment_1/net_epoch_27_id_D.pth\n",
            "End of epoch 27 / 30 \t Time Taken: 55 sec (0 min or 0 h)\n",
            "update G learning rate: 0.000040 -> 0.000030\n",
            "update D learning rate: 0.000040 -> 0.000030\n",
            "[22/10/2018 12:01:10] (T, epoch: 28, it: 0/7, t/smpl: 0.068s) g_fake:0.000 g_cond:0.000 g_mskd_fake:-15.396 g_mskd_cond:51.480 g_cyc:4.170 g_rgb:0.000 g_rgb_un:0.000 g_rgb_s:0.000 g_m1:0.055 g_m2:0.055 g_m1_s:0.951 g_m2_s:0.943 g_idt:0.000 d_real:-15.444 d_cond:219.476 d_fake:15.541 d_gp:0.049 \n",
            "saving the model at the end of epoch 28, iters 4900\n",
            "saved net: ./checkpoints/experiment_1/net_epoch_28_id_G.pth\n",
            "saved net: ./checkpoints/experiment_1/net_epoch_28_id_D.pth\n",
            "End of epoch 28 / 30 \t Time Taken: 53 sec (0 min or 0 h)\n",
            "update G learning rate: 0.000030 -> 0.000020\n",
            "update D learning rate: 0.000030 -> 0.000020\n",
            "[22/10/2018 12:02:19] (T, epoch: 29, it: 4/7, t/smpl: 0.277s) g_fake:0.000 g_cond:0.000 g_mskd_fake:-15.148 g_mskd_cond:56.367 g_cyc:4.122 g_rgb:0.000 g_rgb_un:0.000 g_rgb_s:0.000 g_m1:0.055 g_m2:0.055 g_m1_s:0.947 g_m2_s:0.939 g_idt:0.000 d_real:-15.101 d_cond:82.860 d_fake:15.067 d_gp:0.030 \n",
            "saving the model at the end of epoch 29, iters 5075\n",
            "saved net: ./checkpoints/experiment_1/net_epoch_29_id_G.pth\n",
            "saved net: ./checkpoints/experiment_1/net_epoch_29_id_D.pth\n",
            "End of epoch 29 / 30 \t Time Taken: 55 sec (0 min or 0 h)\n",
            "update G learning rate: 0.000020 -> 0.000010\n",
            "update D learning rate: 0.000020 -> 0.000010\n",
            "[22/10/2018 12:03:02] (Tv, epoch: 30, it: 0/7, t/smpl: 0.266s) g_fake:0.000 g_cond:0.000 g_mskd_fake:-15.066 g_mskd_cond:43.188 g_cyc:3.971 g_rgb:0.000 g_rgb_un:0.000 g_rgb_s:0.000 g_m1:0.055 g_m2:0.055 g_m1_s:0.937 g_m2_s:0.929 g_idt:0.000 d_real:-14.832 d_cond:113.129 d_fake:15.037 d_gp:0.036 \n",
            "[22/10/2018 12:03:12] (V, epoch: 30, time_to_val: 5s) g_fake:0.000 g_cond:0.000 g_mskd_fake:-15.066 g_mskd_cond:43.188 g_cyc:3.971 g_rgb:0.000 g_rgb_un:0.000 g_rgb_s:0.000 g_m1:0.055 g_m2:0.055 g_m1_s:0.937 g_m2_s:0.929 g_idt:0.000 d_real:-14.832 d_cond:113.129 d_fake:15.037 d_gp:0.036 \n",
            "saving the model at the end of epoch 30, iters 5250\n",
            "saved net: ./checkpoints/experiment_1/net_epoch_30_id_G.pth\n",
            "saved net: ./checkpoints/experiment_1/net_epoch_30_id_D.pth\n",
            "End of epoch 30 / 30 \t Time Taken: 66 sec (1 min or 0 h)\n",
            "update G learning rate: 0.000010 -> 0.000000\n",
            "update D learning rate: 0.000010 -> 0.000000\n"
          ],
          "name": "stdout"
        }
      ]
    },
    {
      "metadata": {
        "id": "PLc7Fe4HqVRB",
        "colab_type": "code",
        "outputId": "c6e2efd7-4fcd-4f56-92ec-b288662b3408",
        "colab": {
          "base_uri": "https://localhost:8080/",
          "height": 598
        }
      },
      "cell_type": "code",
      "source": [
        "!python test.py --input_path test/111.jpg"
      ],
      "execution_count": 0,
      "outputs": [
        {
          "output_type": "stream",
          "text": [
            "------------ Options -------------\n",
            "aus_file: aus_openface.pkl\n",
            "batch_size: 4\n",
            "checkpoints_dir: ./checkpoints\n",
            "cond_nc: 17\n",
            "data_dir: None\n",
            "dataset_mode: aus\n",
            "do_saturate_mask: False\n",
            "gpu_ids: [0]\n",
            "image_size: 128\n",
            "images_folder: imgs\n",
            "input_path: test/111.jpg\n",
            "is_train: False\n",
            "load_epoch: 30\n",
            "model: ganimation\n",
            "n_threads_test: 1\n",
            "name: experiment_1\n",
            "output_dir: ./output\n",
            "serial_batches: False\n",
            "test_ids_file: test_ids.csv\n",
            "train_ids_file: train_ids.csv\n",
            "-------------- End ----------------\n",
            "./checkpoints/experiment_1\n",
            "Network generator_wasserstein_gan was created\n",
            "Network discriminator_wasserstein_gan was created\n",
            "loaded net: ./checkpoints/experiment_1/net_epoch_30_id_G.pth\n",
            "Model GANimation was created\n",
            "/content/drive/app/GANimation-master/drive/app/GANimation-master/drive/app/GANimation-master/models/ganimation.py:126: UserWarning: volatile was removed and now has no effect. Use `with torch.no_grad():` instead.\n",
            "  real_img = Variable(self._input_real_img, volatile=True)\n",
            "/content/drive/app/GANimation-master/drive/app/GANimation-master/drive/app/GANimation-master/models/ganimation.py:127: UserWarning: volatile was removed and now has no effect. Use `with torch.no_grad():` instead.\n",
            "  real_cond = Variable(self._input_real_cond, volatile=True)\n",
            "/content/drive/app/GANimation-master/drive/app/GANimation-master/drive/app/GANimation-master/models/ganimation.py:128: UserWarning: volatile was removed and now has no effect. Use `with torch.no_grad():` instead.\n",
            "  desired_cond = Variable(self._input_desired_cond, volatile=True)\n"
          ],
          "name": "stdout"
        }
      ]
    },
    {
      "metadata": {
        "id": "MG-kM1Jl4aO9",
        "colab_type": "code",
        "colab": {}
      },
      "cell_type": "code",
      "source": [
        "# http://pytorch.org/\n",
        "from os.path import exists\n",
        "from wheel.pep425tags import get_abbr_impl, get_impl_ver, get_abi_tag\n",
        "platform = '{}{}-{}'.format(get_abbr_impl(), get_impl_ver(), get_abi_tag())\n",
        "cuda_output = !ldconfig -p|grep cudart.so|sed -e 's/.*\\.\\([0-9]*\\)\\.\\([0-9]*\\)$/cu\\1\\2/'\n",
        "accelerator = cuda_output[0] if exists('/dev/nvidia0') else 'cpu'\n",
        "\n",
        "!pip install -q http://download.pytorch.org/whl/{accelerator}/torch-0.4.1-{platform}-linux_x86_64.whl torchvision\n",
        "import torch"
      ],
      "execution_count": 0,
      "outputs": []
    },
    {
      "metadata": {
        "id": "ndN_zuE_MOYa",
        "colab_type": "code",
        "colab": {}
      },
      "cell_type": "code",
      "source": [
        "import torch"
      ],
      "execution_count": 0,
      "outputs": []
    },
    {
      "metadata": {
        "id": "fo7pw1FH5Bqq",
        "colab_type": "code",
        "outputId": "85b0e8ee-cdd1-4aff-e371-c9b37e38a348",
        "colab": {
          "base_uri": "https://localhost:8080/",
          "height": 190
        }
      },
      "cell_type": "code",
      "source": [
        "!pip install tensorboardX"
      ],
      "execution_count": 0,
      "outputs": [
        {
          "output_type": "stream",
          "text": [
            "Collecting tensorboardX\n",
            "\u001b[?25l  Downloading https://files.pythonhosted.org/packages/b1/d2/e08fe62f3554fbba081e80f6b23128df53b2f74ed4dcde73ec4a84dc53fb/tensorboardX-1.4-py2.py3-none-any.whl (67kB)\n",
            "\u001b[K    100% |████████████████████████████████| 71kB 2.7MB/s \n",
            "\u001b[?25hRequirement already satisfied: six in /usr/local/lib/python2.7/dist-packages (from tensorboardX) (1.11.0)\n",
            "Requirement already satisfied: numpy in /usr/local/lib/python2.7/dist-packages (from tensorboardX) (1.14.6)\n",
            "Requirement already satisfied: protobuf>=3.2.0 in /usr/local/lib/python2.7/dist-packages (from tensorboardX) (3.6.1)\n",
            "Requirement already satisfied: setuptools in /usr/local/lib/python2.7/dist-packages (from protobuf>=3.2.0->tensorboardX) (40.4.3)\n",
            "Installing collected packages: tensorboardX\n",
            "Successfully installed tensorboardX-1.4\n"
          ],
          "name": "stdout"
        }
      ]
    },
    {
      "metadata": {
        "id": "eRMXchOB5L_S",
        "colab_type": "code",
        "outputId": "ba766b02-9d64-4dfb-8696-56244b6b8bc5",
        "colab": {
          "base_uri": "https://localhost:8080/",
          "height": 598
        }
      },
      "cell_type": "code",
      "source": [
        "!pip install -r requirements.txt"
      ],
      "execution_count": 0,
      "outputs": [
        {
          "output_type": "stream",
          "text": [
            "Requirement already satisfied: numpy in /usr/local/lib/python2.7/dist-packages (from -r requirements.txt (line 1)) (1.14.6)\n",
            "Requirement already satisfied: matplotlib in /usr/local/lib/python2.7/dist-packages (from -r requirements.txt (line 2)) (2.1.2)\n",
            "Requirement already satisfied: tqdm in /usr/local/lib/python2.7/dist-packages (from -r requirements.txt (line 3)) (4.27.0)\n",
            "Collecting dlib (from -r requirements.txt (line 4))\n",
            "\u001b[?25l  Downloading https://files.pythonhosted.org/packages/35/8d/e4ddf60452e2fb1ce3164f774e68968b3f110f1cb4cd353235d56875799e/dlib-19.16.0.tar.gz (3.3MB)\n",
            "\u001b[K    100% |████████████████████████████████| 3.3MB 5.2MB/s \n",
            "\u001b[?25hCollecting face_recognition (from -r requirements.txt (line 5))\n",
            "  Downloading https://files.pythonhosted.org/packages/3f/ed/ad9a28042f373d4633fc8b49109b623597d6f193d3bbbef7780a5ee8eef2/face_recognition-1.2.3-py2.py3-none-any.whl\n",
            "Collecting opencv-contrib-python (from -r requirements.txt (line 6))\n",
            "\u001b[?25l  Downloading https://files.pythonhosted.org/packages/b6/fa/c044b049bf88793910552c116f65aeb7d4adde5d1366f52dee56faef31dd/opencv_contrib_python-3.4.3.18-cp27-cp27mu-manylinux1_x86_64.whl (30.6MB)\n",
            "\u001b[K    100% |████████████████████████████████| 30.6MB 931kB/s \n",
            "\u001b[?25hRequirement already satisfied: cycler>=0.10 in /usr/local/lib/python2.7/dist-packages (from matplotlib->-r requirements.txt (line 2)) (0.10.0)\n",
            "Requirement already satisfied: backports.functools-lru-cache in /usr/local/lib/python2.7/dist-packages (from matplotlib->-r requirements.txt (line 2)) (1.5)\n",
            "Requirement already satisfied: subprocess32 in /usr/local/lib/python2.7/dist-packages (from matplotlib->-r requirements.txt (line 2)) (3.5.3)\n",
            "Requirement already satisfied: pytz in /usr/local/lib/python2.7/dist-packages (from matplotlib->-r requirements.txt (line 2)) (2018.5)\n",
            "Requirement already satisfied: six>=1.10 in /usr/local/lib/python2.7/dist-packages (from matplotlib->-r requirements.txt (line 2)) (1.11.0)\n",
            "Requirement already satisfied: python-dateutil>=2.1 in /usr/local/lib/python2.7/dist-packages (from matplotlib->-r requirements.txt (line 2)) (2.5.3)\n",
            "Requirement already satisfied: pyparsing!=2.0.4,!=2.1.2,!=2.1.6,>=2.0.1 in /usr/local/lib/python2.7/dist-packages (from matplotlib->-r requirements.txt (line 2)) (2.2.2)\n",
            "Collecting Click>=6.0 (from face_recognition->-r requirements.txt (line 5))\n",
            "\u001b[?25l  Downloading https://files.pythonhosted.org/packages/fa/37/45185cb5abbc30d7257104c434fe0b07e5a195a6847506c074527aa599ec/Click-7.0-py2.py3-none-any.whl (81kB)\n",
            "\u001b[K    100% |████████████████████████████████| 81kB 24.1MB/s \n",
            "\u001b[?25hCollecting face-recognition-models>=0.3.0 (from face_recognition->-r requirements.txt (line 5))\n",
            "\u001b[?25l  Downloading https://files.pythonhosted.org/packages/cf/3b/4fd8c534f6c0d1b80ce0973d01331525538045084c73c153ee6df20224cf/face_recognition_models-0.3.0.tar.gz (100.1MB)\n",
            "\u001b[K    100% |████████████████████████████████| 100.2MB 279kB/s \n",
            "\u001b[?25hRequirement already satisfied: Pillow in /usr/local/lib/python2.7/dist-packages (from face_recognition->-r requirements.txt (line 5)) (5.3.0)\n",
            "Building wheels for collected packages: dlib, face-recognition-models\n",
            "  Running setup.py bdist_wheel for dlib ... \u001b[?25l-\b \b\\\b \b|\b \b/\b \b-\b \b\\\b \b|\b \b/\b \b-\b \b\\\b \b|\b \b/\b \b-\b \b\\\b \b|\b \b/\b \b-\b \b\\\b \b|\b \b/\b \b-\b \b\\\b \b|\b \b/\b \b-\b \b\\\b \b|\b \b/\b \b-\b \b\\\b \b|\b \b/\b \b-\b \b\\\b \b|\b \b/\b \b-\b \b\\\b \b|\b \b/\b \b-\b \b\\\b \b|\b \b/\b \b-\b \b\\\b \b|\b \b/\b \b-\b \b\\\b \b|\b \b/\b \b-\b \b\\\b \b|\b \b/\b \b-\b \b\\\b \b|\b \b/\b \b-\b \b\\\b \b|\b \b/\b \b-\b \b\\\b \b|\b \b/\b \b-\b \b\\\b \b|\b \b/\b \b-\b \b\\\b \b|\b \b/\b \b-\b \b\\\b \b|\b \b/\b \b-\b \b\\\b \b|\b \b/\b \b-\b \b\\\b \b|\b \b/\b \b-\b \b\\\b \b|\b \b/\b \b-\b \b\\\b \b|\b \b/\b \b-\b \b\\\b \b|\b \b/\b \b-\b \b\\\b \b|\b \b/\b \b-\b \b\\\b \b|\b \bdone\n",
            "\u001b[?25h  Stored in directory: /root/.cache/pip/wheels/ce/f9/bc/1c51cd0b40a2b5dfd46ab79a73832b41e7c3aa918a508154f0\n",
            "  Running setup.py bdist_wheel for face-recognition-models ... \u001b[?25l-\b \b\\\b \b|\b \b/\b \b-\b \b\\\b \b|\b \bdone\n",
            "\u001b[?25h  Stored in directory: /root/.cache/pip/wheels/d2/99/18/59c6c8f01e39810415c0e63f5bede7d83dfb0ffc039865465f\n",
            "Successfully built dlib face-recognition-models\n",
            "Installing collected packages: dlib, Click, face-recognition-models, face-recognition, opencv-contrib-python\n",
            "Successfully installed Click-7.0 dlib-19.16.0 face-recognition-1.2.3 face-recognition-models-0.3.0 opencv-contrib-python-3.4.3.18\n"
          ],
          "name": "stdout"
        }
      ]
    },
    {
      "metadata": {
        "id": "O3sp9D6M5Yvl",
        "colab_type": "code",
        "outputId": "fd5a2df0-8a94-42f5-d174-d7f965a7aab3",
        "colab": {
          "base_uri": "https://localhost:8080/",
          "height": 122
        }
      },
      "cell_type": "code",
      "source": [
        "!pip install cmake"
      ],
      "execution_count": 0,
      "outputs": [
        {
          "output_type": "stream",
          "text": [
            "Collecting cmake\n",
            "\u001b[?25l  Downloading https://files.pythonhosted.org/packages/a2/b2/a25e3bac772625375f8d4e51ae696b1b7ce0c39e5e30d201b18f6ce31f46/cmake-3.12.0-cp27-cp27mu-manylinux1_x86_64.whl (17.7MB)\n",
            "\u001b[K    100% |████████████████████████████████| 17.7MB 1.7MB/s \n",
            "\u001b[?25hInstalling collected packages: cmake\n",
            "Successfully installed cmake-3.12.0\n"
          ],
          "name": "stdout"
        }
      ]
    },
    {
      "metadata": {
        "id": "1fncvLMn8Q2p",
        "colab_type": "code",
        "colab": {}
      },
      "cell_type": "code",
      "source": [
        "# http://pytorch.org/\n",
        "from os.path import exists\n",
        "from wheel.pep425tags import get_abbr_impl, get_impl_ver, get_abi_tag\n",
        "platform = '{}{}-{}'.format(get_abbr_impl(), get_impl_ver(), get_abi_tag())\n",
        "cuda_output = !ldconfig -p|grep cudart.so|sed -e 's/.*\\.\\([0-9]*\\)\\.\\([0-9]*\\)$/cu\\1\\2/'\n",
        "accelerator = cuda_output[0] if exists('/dev/nvidia0') else 'cpu'\n",
        "\n",
        "!pip install -q http://download.pytorch.org/whl/{accelerator}/torch-0.4.1-{platform}-linux_x86_64.whl torchvision\n",
        "import torch"
      ],
      "execution_count": 0,
      "outputs": []
    },
    {
      "metadata": {
        "id": "qfY8he_V9v5X",
        "colab_type": "code",
        "outputId": "b5245e19-03ed-4eca-a71d-33718f030801",
        "colab": {
          "base_uri": "https://localhost:8080/",
          "height": 102
        }
      },
      "cell_type": "code",
      "source": [
        "!pip install torchvision\n"
      ],
      "execution_count": 0,
      "outputs": [
        {
          "output_type": "stream",
          "text": [
            "Requirement already satisfied: torchvision in /usr/local/lib/python2.7/dist-packages (0.2.1)\n",
            "Requirement already satisfied: six in /usr/local/lib/python2.7/dist-packages (from torchvision) (1.11.0)\n",
            "Requirement already satisfied: numpy in /usr/local/lib/python2.7/dist-packages (from torchvision) (1.14.6)\n",
            "Requirement already satisfied: torch in /usr/local/lib/python2.7/dist-packages (from torchvision) (0.4.1)\n",
            "Requirement already satisfied: pillow>=4.1.1 in /usr/local/lib/python2.7/dist-packages (from torchvision) (5.3.0)\n"
          ],
          "name": "stdout"
        }
      ]
    }
  ]
}